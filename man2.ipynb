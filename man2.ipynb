{
 "cells": [
  {
   "cell_type": "code",
   "execution_count": 2,
   "metadata": {},
   "outputs": [
    {
     "ename": "TypeError",
     "evalue": "'_Settings' object is not callable",
     "output_type": "error",
     "traceback": [
      "\u001b[0;31m---------------------------------------------------------------------------\u001b[0m",
      "\u001b[0;31mTypeError\u001b[0m                                 Traceback (most recent call last)",
      "Cell \u001b[0;32mIn[2], line 41\u001b[0m\n\u001b[1;32m     38\u001b[0m embed_model \u001b[38;5;241m=\u001b[39m HuggingFaceEmbedding(model_name\u001b[38;5;241m=\u001b[39m\u001b[38;5;124m\"\u001b[39m\u001b[38;5;124mall-MiniLM-L6-v2\u001b[39m\u001b[38;5;124m\"\u001b[39m)\n\u001b[1;32m     40\u001b[0m \u001b[38;5;66;03m# Create settings instance\u001b[39;00m\n\u001b[0;32m---> 41\u001b[0m settings_instance \u001b[38;5;241m=\u001b[39m \u001b[43mSettings\u001b[49m\u001b[43m(\u001b[49m\u001b[43m)\u001b[49m  \u001b[38;5;66;03m# Assuming the Settings class has a no-arg constructor\u001b[39;00m\n\u001b[1;32m     43\u001b[0m \u001b[38;5;66;03m# Set the llm and embed_model attributes\u001b[39;00m\n\u001b[1;32m     44\u001b[0m settings_instance\u001b[38;5;241m.\u001b[39mllm \u001b[38;5;241m=\u001b[39m llm\n",
      "\u001b[0;31mTypeError\u001b[0m: '_Settings' object is not callable"
     ]
    }
   ],
   "source": [
    "import chromadb\n",
    "from llama_index.core import VectorStoreIndex\n",
    "from llama_index.llms.ollama import Ollama\n",
    "from llama_index.legacy.vector_stores.chroma import ChromaVectorStore\n",
    "from llama_index.embeddings.huggingface import HuggingFaceEmbedding\n",
    "import csv\n",
    "import pathlib\n",
    "\n",
    "# Create Chroma DB client\n",
    "client = chromadb.PersistentClient(path=\"./chroma_db_data\")\n",
    "\n",
    "# Load CSV data\n",
    "documents = []\n",
    "csv_file = pathlib.Path(\"./6bca48b1-fine_food_reviews.csv\")\n",
    "\n",
    "if csv_file.exists():\n",
    "    with open(csv_file, \"r\") as f:\n",
    "        reader = csv.reader(f)\n",
    "        header = next(reader)\n",
    "        documents = [row for row in reader]\n",
    "else:\n",
    "    print(f\"Error: File '{csv_file}' does not exist.\")\n",
    "    raise FileNotFoundError\n",
    "\n",
    "# Create Chroma collection\n",
    "try:\n",
    "    chroma_collection = client.get_collection(\"reviews\")\n",
    "except ValueError:\n",
    "    chroma_collection = client.create_collection(name=\"reviews\")\n",
    "\n",
    "# Create ChromaVectorStore\n",
    "vector_store = ChromaVectorStore(chroma_collection=chroma_collection)\n",
    "\n",
    "# Initialize Ollama\n",
    "llm = Ollama(model=\"mixtral\")\n",
    "\n",
    "# Create HuggingFaceEmbedding object\n",
    "embed_model = HuggingFaceEmbedding(model_name=\"all-MiniLM-L6-v2\")\n",
    "\n",
    "# Create settings instance\n",
    "settings_class = Settings\n",
    "settings_instance = settings_class()  # Assuming the Settings class has a no-arg constructor\n",
    "\n",
    "# Set the llm and embed_model attributes\n",
    "settings_instance.llm = llm\n",
    "settings_instance.embed_model = embed_model\n",
    "\n",
    "# Create VectorStoreIndex and query engine\n",
    "index = VectorStoreIndex.from_documents(documents, vector_store=vector_store, settings=settings_instance)\n",
    "\n",
    "# Perform a query and print the response\n",
    "response = index.query(\"What are the thoughts on food quality?\")\n",
    "print(response)\n",
    "\n",
    "# Create VectorStoreIndex and query engine with a similarity threshold of 20\n",
    "index = VectorStoreIndex.from_vector_store(vector_store=vector_store, settings=settings_instance, similarity_top_k=20)\n",
    "\n",
    "# Perform a query and print the response\n",
    "response = index.query(\"What are the thoughts on food quality?\")\n",
    "print(response)"
   ]
  }
 ],
 "metadata": {
  "kernelspec": {
   "display_name": ".venv",
   "language": "python",
   "name": "python3"
  },
  "language_info": {
   "codemirror_mode": {
    "name": "ipython",
    "version": 3
   },
   "file_extension": ".py",
   "mimetype": "text/x-python",
   "name": "python",
   "nbconvert_exporter": "python",
   "pygments_lexer": "ipython3",
   "version": "3.10.12"
  }
 },
 "nbformat": 4,
 "nbformat_minor": 2
}
