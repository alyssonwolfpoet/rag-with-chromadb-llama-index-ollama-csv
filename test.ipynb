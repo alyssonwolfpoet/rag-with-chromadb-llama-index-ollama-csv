{
 "cells": [
  {
   "cell_type": "code",
   "execution_count": 1,
   "metadata": {},
   "outputs": [
    {
     "name": "stderr",
     "output_type": "stream",
     "text": [
      "/home/alysson/workspace/rag-with-chromadb-llama-index-ollama-csv/.venv/lib/python3.10/site-packages/langchain_core/_api/deprecation.py:139: LangChainDeprecationWarning: The class `HuggingFaceEmbeddings` was deprecated in LangChain 0.2.2 and will be removed in 0.3.0. An updated version of the class exists in the langchain-huggingface package and should be used instead. To use it run `pip install -U langchain-huggingface` and import as `from langchain_huggingface import HuggingFaceEmbeddings`.\n",
      "  warn_deprecated(\n",
      "/home/alysson/workspace/rag-with-chromadb-llama-index-ollama-csv/.venv/lib/python3.10/site-packages/sentence_transformers/cross_encoder/CrossEncoder.py:11: TqdmExperimentalWarning: Using `tqdm.autonotebook.tqdm` in notebook mode. Use `tqdm.tqdm` instead to force console mode (e.g. in jupyter console)\n",
      "  from tqdm.autonotebook import tqdm, trange\n"
     ]
    },
    {
     "name": "stdout",
     "output_type": "stream",
     "text": [
      "client=SentenceTransformer(\n",
      "  (0): Transformer({'max_seq_length': 256, 'do_lower_case': False}) with Transformer model: BertModel \n",
      "  (1): Pooling({'word_embedding_dimension': 384, 'pooling_mode_cls_token': False, 'pooling_mode_mean_tokens': True, 'pooling_mode_max_tokens': False, 'pooling_mode_mean_sqrt_len_tokens': False, 'pooling_mode_weightedmean_tokens': False, 'pooling_mode_lasttoken': False, 'include_prompt': True})\n",
      "  (2): Normalize()\n",
      ") model_name='sentence-transformers/all-MiniLM-L6-v2' cache_folder=None model_kwargs={} encode_kwargs={} multi_process=False show_progress=False\n"
     ]
    },
    {
     "ename": "TypeError",
     "evalue": "'HuggingFaceEmbeddings' object is not callable",
     "output_type": "error",
     "traceback": [
      "\u001b[0;31m---------------------------------------------------------------------------\u001b[0m",
      "\u001b[0;31mTypeError\u001b[0m                                 Traceback (most recent call last)",
      "Cell \u001b[0;32mIn[1], line 29\u001b[0m\n\u001b[1;32m     27\u001b[0m \u001b[38;5;28mprint\u001b[39m(embeddings)\n\u001b[1;32m     28\u001b[0m \u001b[38;5;28;01mfor\u001b[39;00m text \u001b[38;5;129;01min\u001b[39;00m texts:\n\u001b[0;32m---> 29\u001b[0m     embedding \u001b[38;5;241m=\u001b[39m \u001b[43membeddings\u001b[49m\u001b[43m(\u001b[49m\u001b[43mtext\u001b[49m\u001b[43m)\u001b[49m\n\u001b[1;32m     30\u001b[0m     collection\u001b[38;5;241m.\u001b[39madd(text, embedding)\n\u001b[1;32m     32\u001b[0m \u001b[38;5;66;03m# Initialize Replicate with LLaMA3 model\u001b[39;00m\n",
      "\u001b[0;31mTypeError\u001b[0m: 'HuggingFaceEmbeddings' object is not callable"
     ]
    }
   ],
   "source": [
    "import sys\n",
    "from langchain.llms import Replicate\n",
    "from langchain.text_splitter import CharacterTextSplitter\n",
    "from langchain.embeddings import HuggingFaceEmbeddings\n",
    "from langchain.chains import ConversationalRetrievalChain\n",
    "from langchain.document_loaders.csv_loader import CSVLoader\n",
    "import chromadb\n",
    "\n",
    "# Load documents from CSV file\n",
    "loader = CSVLoader(file_path=\"./transcript/fine_food_reviews.csv\")\n",
    "documents = loader.load()\n",
    "\n",
    "# Split loaded documents into smaller chunks\n",
    "text_splitter = CharacterTextSplitter(chunk_size=1000, chunk_overlap=0)\n",
    "texts = text_splitter.split_documents(documents)\n",
    "\n",
    "# Create HuggingFace embeddings\n",
    "embeddings = HuggingFaceEmbeddings(model_name=\"sentence-transformers/all-MiniLM-L6-v2\")\n",
    "\n",
    "# Create a ChromaDB client\n",
    "client = chromadb.Client()\n",
    "\n",
    "# Create a ChromaDB collection\n",
    "collection = client.create_collection(name=\"my_collection\")\n",
    "\n",
    "# Index the documents\n",
    "print(embeddings)\n",
    "for text in texts:\n",
    "    embedding = embeddings(text)\n",
    "    collection.add(text, embedding)\n",
    "\n",
    "# Initialize Replicate with LLaMA3 model\n",
    "llm = Replicate(\n",
    "    model=\"a16z-infra/llama13b-v2-chat:df7690f1994d94e96ad9d568eac121aecf50684a0b0963b25a41cc40061269e5\",\n",
    "    input={\"temperature\": 0.75, \"max_length\": 3000}\n",
    ")\n",
    "\n",
    "# Create a QA chain using LLaMA3 and the ChromaDB collection\n",
    "def retrieve(query):\n",
    "    query_embedding = embeddings.encode(query)\n",
    "    results = collection.query(query_embedding, k=2)\n",
    "    return [(result.id, result.score) for result in results]\n",
    "\n",
    "qa_chain = ConversationalRetrievalChain.from_llm(llm, retrieve, return_source_documents=True)\n",
    "\n",
    "# Interact with chatbot\n",
    "chat_history = []\n",
    "while True:\n",
    "    query = input('Prompt: ')\n",
    "    if query == \"exit\" or query == \"quit\" or query == \"q\":\n",
    "        print('Exiting')\n",
    "        sys.exit()\n",
    "    result = qa_chain({'question': query, 'chat_history': chat_history})\n",
    "    print('Answer:', result['answer'] + '\\n')\n",
    "    chat_history.append((query, result['answer']))"
   ]
  }
 ],
 "metadata": {
  "kernelspec": {
   "display_name": ".venv",
   "language": "python",
   "name": "python3"
  },
  "language_info": {
   "codemirror_mode": {
    "name": "ipython",
    "version": 3
   },
   "file_extension": ".py",
   "mimetype": "text/x-python",
   "name": "python",
   "nbconvert_exporter": "python",
   "pygments_lexer": "ipython3",
   "version": "3.10.12"
  }
 },
 "nbformat": 4,
 "nbformat_minor": 2
}
